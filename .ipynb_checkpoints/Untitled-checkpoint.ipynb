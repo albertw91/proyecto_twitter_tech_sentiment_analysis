{
 "cells": [
  {
   "cell_type": "code",
   "execution_count": 2,
   "id": "a1e9061a-3104-4098-9ca1-d8160e00bd0e",
   "metadata": {},
   "outputs": [
    {
     "name": "stdout",
     "output_type": "stream",
     "text": [
      "Requirement already satisfied: scikit-learn in c:\\programdata\\anaconda3\\lib\\site-packages (0.24.2)\n",
      "Requirement already satisfied: mlflow in c:\\users\\eq1\\appdata\\roaming\\python\\python39\\site-packages (1.26.0)\n",
      "Requirement already satisfied: numpy>=1.13.3 in c:\\programdata\\anaconda3\\lib\\site-packages (from scikit-learn) (1.20.3)\n",
      "Requirement already satisfied: threadpoolctl>=2.0.0 in c:\\programdata\\anaconda3\\lib\\site-packages (from scikit-learn) (2.2.0)\n",
      "Requirement already satisfied: scipy>=0.19.1 in c:\\programdata\\anaconda3\\lib\\site-packages (from scikit-learn) (1.7.1)\n",
      "Requirement already satisfied: joblib>=0.11 in c:\\programdata\\anaconda3\\lib\\site-packages (from scikit-learn) (1.1.0)\n",
      "Requirement already satisfied: waitress in c:\\users\\eq1\\appdata\\roaming\\python\\python39\\site-packages (from mlflow) (2.1.1)\n",
      "Requirement already satisfied: packaging in c:\\programdata\\anaconda3\\lib\\site-packages (from mlflow) (21.0)\n",
      "Requirement already satisfied: Flask in c:\\programdata\\anaconda3\\lib\\site-packages (from mlflow) (1.1.2)\n",
      "Requirement already satisfied: prometheus-flask-exporter in c:\\users\\eq1\\appdata\\roaming\\python\\python39\\site-packages (from mlflow) (0.20.1)\n",
      "Requirement already satisfied: pyyaml>=5.1 in c:\\programdata\\anaconda3\\lib\\site-packages (from mlflow) (6.0)\n",
      "Requirement already satisfied: pandas in c:\\programdata\\anaconda3\\lib\\site-packages (from mlflow) (1.3.4)\n",
      "Requirement already satisfied: sqlalchemy in c:\\programdata\\anaconda3\\lib\\site-packages (from mlflow) (1.4.22)\n",
      "Requirement already satisfied: entrypoints in c:\\programdata\\anaconda3\\lib\\site-packages (from mlflow) (0.3)\n",
      "Requirement already satisfied: sqlparse>=0.3.1 in c:\\users\\eq1\\appdata\\roaming\\python\\python39\\site-packages (from mlflow) (0.4.2)\n",
      "Requirement already satisfied: docker>=4.0.0 in c:\\users\\eq1\\appdata\\roaming\\python\\python39\\site-packages (from mlflow) (5.0.3)\n",
      "Requirement already satisfied: alembic in c:\\users\\eq1\\appdata\\roaming\\python\\python39\\site-packages (from mlflow) (1.7.7)\n",
      "Requirement already satisfied: importlib-metadata!=4.7.0,>=3.7.0 in c:\\programdata\\anaconda3\\lib\\site-packages (from mlflow) (4.8.1)\n",
      "Requirement already satisfied: pytz in c:\\programdata\\anaconda3\\lib\\site-packages (from mlflow) (2021.3)\n",
      "Requirement already satisfied: protobuf>=3.7.0 in c:\\programdata\\anaconda3\\lib\\site-packages (from mlflow) (3.20.1)\n",
      "Requirement already satisfied: click>=7.0 in c:\\programdata\\anaconda3\\lib\\site-packages (from mlflow) (8.0.3)\n",
      "Requirement already satisfied: gitpython>=2.1.0 in c:\\users\\eq1\\appdata\\roaming\\python\\python39\\site-packages (from mlflow) (3.1.27)\n",
      "Requirement already satisfied: requests>=2.17.3 in c:\\programdata\\anaconda3\\lib\\site-packages (from mlflow) (2.26.0)\n",
      "Requirement already satisfied: querystring-parser in c:\\users\\eq1\\appdata\\roaming\\python\\python39\\site-packages (from mlflow) (1.2.4)\n",
      "Requirement already satisfied: cloudpickle in c:\\programdata\\anaconda3\\lib\\site-packages (from mlflow) (2.0.0)\n",
      "Requirement already satisfied: databricks-cli>=0.8.7 in c:\\users\\eq1\\appdata\\roaming\\python\\python39\\site-packages (from mlflow) (0.16.6)\n",
      "Requirement already satisfied: colorama in c:\\programdata\\anaconda3\\lib\\site-packages (from click>=7.0->mlflow) (0.4.4)\n",
      "Requirement already satisfied: tabulate>=0.7.7 in c:\\programdata\\anaconda3\\lib\\site-packages (from databricks-cli>=0.8.7->mlflow) (0.8.9)\n",
      "Requirement already satisfied: six>=1.10.0 in c:\\programdata\\anaconda3\\lib\\site-packages (from databricks-cli>=0.8.7->mlflow) (1.16.0)\n",
      "Requirement already satisfied: pyjwt>=1.7.0 in c:\\programdata\\anaconda3\\lib\\site-packages (from databricks-cli>=0.8.7->mlflow) (2.1.0)\n",
      "Requirement already satisfied: oauthlib>=3.1.0 in c:\\programdata\\anaconda3\\lib\\site-packages (from databricks-cli>=0.8.7->mlflow) (3.2.0)\n",
      "Requirement already satisfied: pywin32==227 in c:\\users\\eq1\\appdata\\roaming\\python\\python39\\site-packages (from docker>=4.0.0->mlflow) (227)\n",
      "Requirement already satisfied: websocket-client>=0.32.0 in c:\\programdata\\anaconda3\\lib\\site-packages (from docker>=4.0.0->mlflow) (1.3.2)\n",
      "Requirement already satisfied: gitdb<5,>=4.0.1 in c:\\users\\eq1\\appdata\\roaming\\python\\python39\\site-packages (from gitpython>=2.1.0->mlflow) (4.0.9)\n",
      "Requirement already satisfied: smmap<6,>=3.0.1 in c:\\programdata\\anaconda3\\lib\\site-packages (from gitdb<5,>=4.0.1->gitpython>=2.1.0->mlflow) (5.0.0)\n",
      "Requirement already satisfied: zipp>=0.5 in c:\\programdata\\anaconda3\\lib\\site-packages (from importlib-metadata!=4.7.0,>=3.7.0->mlflow) (3.6.0)\n",
      "Requirement already satisfied: urllib3<1.27,>=1.21.1 in c:\\programdata\\anaconda3\\lib\\site-packages (from requests>=2.17.3->mlflow) (1.26.7)\n",
      "Requirement already satisfied: certifi>=2017.4.17 in c:\\programdata\\anaconda3\\lib\\site-packages (from requests>=2.17.3->mlflow) (2021.10.8)\n",
      "Requirement already satisfied: charset-normalizer~=2.0.0 in c:\\programdata\\anaconda3\\lib\\site-packages (from requests>=2.17.3->mlflow) (2.0.4)\n",
      "Requirement already satisfied: idna<4,>=2.5 in c:\\programdata\\anaconda3\\lib\\site-packages (from requests>=2.17.3->mlflow) (3.2)\n",
      "Requirement already satisfied: Mako in c:\\users\\eq1\\appdata\\roaming\\python\\python39\\site-packages (from alembic->mlflow) (1.2.0)\n",
      "Requirement already satisfied: greenlet!=0.4.17 in c:\\programdata\\anaconda3\\lib\\site-packages (from sqlalchemy->mlflow) (1.1.1)\n",
      "Requirement already satisfied: itsdangerous>=0.24 in c:\\programdata\\anaconda3\\lib\\site-packages (from Flask->mlflow) (2.0.1)\n",
      "Requirement already satisfied: Werkzeug>=0.15 in c:\\programdata\\anaconda3\\lib\\site-packages (from Flask->mlflow) (2.0.2)\n",
      "Requirement already satisfied: Jinja2>=2.10.1 in c:\\programdata\\anaconda3\\lib\\site-packages (from Flask->mlflow) (2.11.3)\n",
      "Requirement already satisfied: MarkupSafe>=0.23 in c:\\programdata\\anaconda3\\lib\\site-packages (from Jinja2>=2.10.1->Flask->mlflow) (1.1.1)\n",
      "Requirement already satisfied: pyparsing>=2.0.2 in c:\\programdata\\anaconda3\\lib\\site-packages (from packaging->mlflow) (3.0.4)\n",
      "Requirement already satisfied: python-dateutil>=2.7.3 in c:\\programdata\\anaconda3\\lib\\site-packages (from pandas->mlflow) (2.8.2)\n",
      "Requirement already satisfied: prometheus-client in c:\\programdata\\anaconda3\\lib\\site-packages (from prometheus-flask-exporter->mlflow) (0.11.0)\n"
     ]
    }
   ],
   "source": [
    "!pip install scikit-learn mlflow"
   ]
  },
  {
   "cell_type": "code",
   "execution_count": 7,
   "id": "1ea32b32-2047-4ac6-a2a5-e434a1b9f8c8",
   "metadata": {},
   "outputs": [
    {
     "name": "stdout",
     "output_type": "stream",
     "text": [
      "^C\n"
     ]
    }
   ],
   "source": [
    "!mlflow ui"
   ]
  },
  {
   "cell_type": "code",
   "execution_count": 18,
   "id": "c8b15735-83d9-46f8-8b05-5a0a866d17d4",
   "metadata": {},
   "outputs": [
    {
     "name": "stderr",
     "output_type": "stream",
     "text": [
      "2022/06/16 13:10:16 ERROR mlflow.cli: === Could not find subdirectory  of mlflow_model ===\n"
     ]
    }
   ],
   "source": [
    "!mlflow run mlflow_model"
   ]
  },
  {
   "cell_type": "code",
   "execution_count": null,
   "id": "bfa95fc7-4cea-4a65-adc9-177b1439c581",
   "metadata": {},
   "outputs": [],
   "source": []
  },
  {
   "cell_type": "code",
   "execution_count": null,
   "id": "f49b3bd3-5bfd-488e-a4c1-ac3ca80f25f2",
   "metadata": {},
   "outputs": [],
   "source": []
  }
 ],
 "metadata": {
  "kernelspec": {
   "display_name": "Python 3 (ipykernel)",
   "language": "python",
   "name": "python3"
  },
  "language_info": {
   "codemirror_mode": {
    "name": "ipython",
    "version": 3
   },
   "file_extension": ".py",
   "mimetype": "text/x-python",
   "name": "python",
   "nbconvert_exporter": "python",
   "pygments_lexer": "ipython3",
   "version": "3.9.7"
  }
 },
 "nbformat": 4,
 "nbformat_minor": 5
}
